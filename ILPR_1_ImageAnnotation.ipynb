{
  "nbformat": 4,
  "nbformat_minor": 0,
  "metadata": {
    "colab": {
      "name": "ILPR_1_ImageAnnotation.ipynb",
      "provenance": [],
      "authorship_tag": "ABX9TyMjG/tOKMIXZgPY3P7oSMI0",
      "include_colab_link": true
    },
    "kernelspec": {
      "name": "python3",
      "display_name": "Python 3"
    }
  },
  "cells": [
    {
      "cell_type": "markdown",
      "metadata": {
        "id": "view-in-github",
        "colab_type": "text"
      },
      "source": [
        "<a href=\"https://colab.research.google.com/github/anmoltiwari05/Indian-License-plate-detection-with-YOLOv3-using-Transfer-Learning/blob/master/ILPR_1_ImageAnnotation.ipynb\" target=\"_parent\"><img src=\"https://colab.research.google.com/assets/colab-badge.svg\" alt=\"Open In Colab\"/></a>"
      ]
    },
    {
      "cell_type": "code",
      "metadata": {
        "id": "fjC70jmZUr1d",
        "colab_type": "code",
        "colab": {}
      },
      "source": [
        "from google.colab import drive\n",
        "drive.mount('/content/gdrive')"
      ],
      "execution_count": null,
      "outputs": []
    },
    {
      "cell_type": "code",
      "metadata": {
        "id": "9UTEPvNOUsRq",
        "colab_type": "code",
        "colab": {}
      },
      "source": [
        "%cd \"gdrive/My Drive/ILPR/TrainYourOwnYOLO/1_Image_Annotation/\""
      ],
      "execution_count": null,
      "outputs": []
    },
    {
      "cell_type": "markdown",
      "metadata": {
        "id": "c4De1WG4U9ML",
        "colab_type": "text"
      },
      "source": [
        "Make sure that you've copied the 'vott-csv-export' folder inside **ILPR/TrainYourOwnYOLO/Data/Source_Images/Training_Images/**"
      ]
    },
    {
      "cell_type": "code",
      "metadata": {
        "id": "OfJDdchlUsT7",
        "colab_type": "code",
        "colab": {}
      },
      "source": [
        "!python Convert_to_YOLO_format.py"
      ],
      "execution_count": null,
      "outputs": []
    }
  ]
}