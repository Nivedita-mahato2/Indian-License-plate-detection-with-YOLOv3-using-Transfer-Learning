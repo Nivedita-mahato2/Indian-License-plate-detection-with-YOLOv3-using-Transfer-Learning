{
  "nbformat": 4,
  "nbformat_minor": 0,
  "metadata": {
    "colab": {
      "name": "ILPR_0_GettingStarted.ipynb",
      "provenance": [],
      "authorship_tag": "ABX9TyNan0WtG067ueecgWLaHPR5",
      "include_colab_link": true
    },
    "kernelspec": {
      "name": "python3",
      "display_name": "Python 3"
    },
    "accelerator": "GPU"
  },
  "cells": [
    {
      "cell_type": "markdown",
      "metadata": {
        "id": "view-in-github",
        "colab_type": "text"
      },
      "source": [
        "<a href=\"https://colab.research.google.com/github/anmoltiwari05/Indian-License-plate-detection-with-YOLOv3-using-Transfer-Learning/blob/master/ILPR_0_GettingStarted.ipynb\" target=\"_parent\"><img src=\"https://colab.research.google.com/assets/colab-badge.svg\" alt=\"Open In Colab\"/></a>"
      ]
    },
    {
      "cell_type": "markdown",
      "metadata": {
        "id": "tjGG2vUAI7NB",
        "colab_type": "text"
      },
      "source": [
        "**Indian License Plate Detection with YOLOv3 using Transfer Learning**"
      ]
    },
    {
      "cell_type": "code",
      "metadata": {
        "id": "gWwhvf3u3L2U",
        "colab_type": "code",
        "colab": {
          "base_uri": "https://localhost:8080/",
          "height": 121
        },
        "outputId": "7446fdd8-5edf-4e18-ef7a-ac956d50afa7"
      },
      "source": [
        "from google.colab import drive\n",
        "drive.mount('/content/gdrive')"
      ],
      "execution_count": null,
      "outputs": [
        {
          "output_type": "stream",
          "text": [
            "Go to this URL in a browser: https://accounts.google.com/o/oauth2/auth?client_id=947318989803-6bn6qk8qdgf4n4g3pfee6491hc0brc4i.apps.googleusercontent.com&redirect_uri=urn%3aietf%3awg%3aoauth%3a2.0%3aoob&response_type=code&scope=email%20https%3a%2f%2fwww.googleapis.com%2fauth%2fdocs.test%20https%3a%2f%2fwww.googleapis.com%2fauth%2fdrive%20https%3a%2f%2fwww.googleapis.com%2fauth%2fdrive.photos.readonly%20https%3a%2f%2fwww.googleapis.com%2fauth%2fpeopleapi.readonly\n",
            "\n",
            "Enter your authorization code:\n",
            "··········\n",
            "Mounted at /content/gdrive\n"
          ],
          "name": "stdout"
        }
      ]
    },
    {
      "cell_type": "markdown",
      "metadata": {
        "id": "3sRdbFezJUVT",
        "colab_type": "text"
      },
      "source": [
        "Clone the repository and upload the dataset folder ('vott-csv-export') in your Google Drive\n",
        "\n",
        "Train your own YOLO Github: https://github.com/AntonMu/TrainYourOwnYOLO\n"
      ]
    },
    {
      "cell_type": "code",
      "metadata": {
        "id": "rXJ6N4EG3S8V",
        "colab_type": "code",
        "colab": {
          "base_uri": "https://localhost:8080/",
          "height": 151
        },
        "outputId": "496f0aaa-5ae4-4c5d-d5ba-34f83036bc03"
      },
      "source": [
        "%mkdir \"gdrive/My Drive/ILPR/TrainYourOwnYOLO/\"\n",
        "!git clone https://github.com/AntonMu/TrainYourOwnYOLO gdrive/'My Drive'/ILPR/TrainYourOwnYOLO/"
      ],
      "execution_count": null,
      "outputs": [
        {
          "output_type": "stream",
          "text": [
            "Cloning into 'gdrive/My Drive/ILPR'...\n",
            "remote: Enumerating objects: 5, done.\u001b[K\n",
            "remote: Counting objects: 100% (5/5), done.\u001b[K\n",
            "remote: Compressing objects: 100% (3/3), done.\u001b[K\n",
            "remote: Total 2277 (delta 0), reused 0 (delta 0), pack-reused 2272\u001b[K\n",
            "Receiving objects: 100% (2277/2277), 142.03 MiB | 23.04 MiB/s, done.\n",
            "Resolving deltas: 100% (748/748), done.\n",
            "Checking out files: 100% (394/394), done.\n"
          ],
          "name": "stdout"
        }
      ]
    },
    {
      "cell_type": "markdown",
      "metadata": {
        "id": "cQJUe9qqKAmc",
        "colab_type": "text"
      },
      "source": [
        "Delete the images that came with the repository"
      ]
    },
    {
      "cell_type": "code",
      "metadata": {
        "id": "nQoqjfL9A4bc",
        "colab_type": "code",
        "colab": {}
      },
      "source": [
        "!rm -rf gdrive/'My Drive'/ILPR/TrainYourOwnYOLO/Data/Source_Images/Training_Images/*\n",
        "!rm gdrive/'My Drive'/ILPR/TrainYourOwnYOLO/Data/Source_Images/Test_Images/*\n",
        "!rm gdrive/'My Drive'/ILPR/TrainYourOwnYOLO/Data/Source_Images/Test_Image_Detection_Results/*"
      ],
      "execution_count": null,
      "outputs": []
    },
    {
      "cell_type": "markdown",
      "metadata": {
        "id": "MZAIeRQaK0LQ",
        "colab_type": "text"
      },
      "source": [
        "The code below will help you move the License Plate Dataset ('vott-csv-export') in the Training folder or you can do it manually on Google Drive. Place the 'vott-csv-export' folder in **ILPR/TrainYourOwnYOLO/Data/Source_Images/Training_Images/**"
      ]
    },
    {
      "cell_type": "code",
      "metadata": {
        "id": "d4xmRnKFrvyG",
        "colab_type": "code",
        "colab": {}
      },
      "source": [
        "%mv gdrive/'My Drive'/vott-csv-export gdrive/'My Drive'/ILPR/TrainYourOwnYOLO/Data/Source_Images/Training_Images/"
      ],
      "execution_count": null,
      "outputs": []
    }
  ]
}