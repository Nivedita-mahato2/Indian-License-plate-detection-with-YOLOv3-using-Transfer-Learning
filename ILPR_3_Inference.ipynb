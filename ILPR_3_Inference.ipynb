{
  "nbformat": 4,
  "nbformat_minor": 0,
  "metadata": {
    "colab": {
      "name": "ILPR_3_Inference.ipynb",
      "provenance": [],
      "authorship_tag": "ABX9TyPxvaXx0um3cxrSF5xaDzkS",
      "include_colab_link": true
    },
    "kernelspec": {
      "name": "python3",
      "display_name": "Python 3"
    }
  },
  "cells": [
    {
      "cell_type": "markdown",
      "metadata": {
        "id": "view-in-github",
        "colab_type": "text"
      },
      "source": [
        "<a href=\"https://colab.research.google.com/github/anmoltiwari05/Indian-License-plate-detection-with-YOLOv3-using-Transfer-Learning/blob/master/ILPR_3_Inference.ipynb\" target=\"_parent\"><img src=\"https://colab.research.google.com/assets/colab-badge.svg\" alt=\"Open In Colab\"/></a>"
      ]
    },
    {
      "cell_type": "code",
      "metadata": {
        "id": "4jY-GQeJRlHW",
        "colab_type": "code",
        "colab": {}
      },
      "source": [
        "from google.colab import drive\n",
        "drive.mount('/content/gdrive')"
      ],
      "execution_count": null,
      "outputs": []
    },
    {
      "cell_type": "code",
      "metadata": {
        "id": "DTHuWoeqSJGR",
        "colab_type": "code",
        "colab": {
          "base_uri": "https://localhost:8080/",
          "height": 34
        },
        "outputId": "5a4d6b06-d331-412d-f0f4-319ab1f44b76"
      },
      "source": [
        "%cd \"gdrive/My Drive/ILPR/TrainYourOwnYOLO/3_Inference/\""
      ],
      "execution_count": null,
      "outputs": [
        {
          "output_type": "stream",
          "text": [
            "/content/gdrive/My Drive/ILPR/TrainYourOwnYOLO/3_Inference\n"
          ],
          "name": "stdout"
        }
      ]
    },
    {
      "cell_type": "code",
      "metadata": {
        "id": "GCgR57boSxiw",
        "colab_type": "code",
        "colab": {}
      },
      "source": [
        "!pip install tensorflow==1.15.2"
      ],
      "execution_count": null,
      "outputs": []
    },
    {
      "cell_type": "markdown",
      "metadata": {
        "id": "KH38Ysz3TZqU",
        "colab_type": "text"
      },
      "source": [
        "Place your all Testing Images in **ILPR/TrainYourOwnYOLO/Data/Source_Images/Test_Images/** and after running the Detector, the Output will be stored in **ILPR/TrainYourOwnYOLO/Data/Source_Images/Test_Images_Detection/**"
      ]
    },
    {
      "cell_type": "code",
      "metadata": {
        "id": "Z10mX54ESJIx",
        "colab_type": "code",
        "colab": {
          "base_uri": "https://localhost:8080/",
          "height": 474
        },
        "outputId": "1ca63a24-35d9-471e-b69f-f8b460f8fa73"
      },
      "source": [
        "!python Detector.py"
      ],
      "execution_count": null,
      "outputs": [
        {
          "output_type": "stream",
          "text": [
            "Using TensorFlow backend.\n",
            "WARNING:tensorflow:From /usr/local/lib/python3.6/dist-packages/tensorflow_core/python/ops/resource_variable_ops.py:1630: calling BaseResourceVariable.__init__ (from tensorflow.python.ops.resource_variable_ops) with constraint is deprecated and will be removed in a future version.\n",
            "Instructions for updating:\n",
            "If using Keras pass *_constraint arguments to layers.\n",
            "/content/gdrive/My Drive/ILPR/TrainYourOwnYOLO/Data/Model_Weights/trained_weights_final.h5 model, anchors, and classes loaded in 18.01sec.\n",
            "WARNING:tensorflow:From /usr/local/lib/python3.6/dist-packages/tensorflow_core/python/ops/array_ops.py:1475: where (from tensorflow.python.ops.array_ops) is deprecated and will be removed in a future version.\n",
            "Instructions for updating:\n",
            "Use tf.where in 2.0, which has the same broadcast rule as np.where\n",
            "Found 1 input labels: ['License Plate'] ...\n",
            "Found 3 input images: ['Capture2.jpg', 'Capture1.jpg', 'Capture.jpg'] ...\n",
            "/content/gdrive/My Drive/ILPR/TrainYourOwnYOLO/Data/Source_Images/Test_Images/Capture2.jpg\n",
            "(416, 416, 3)\n",
            "Found 1 boxes for img\n",
            "License Plate 0.45 (320, 371) (508, 436)\n",
            "Time spent: 3.267sec\n",
            "/content/gdrive/My Drive/ILPR/TrainYourOwnYOLO/Data/Source_Images/Test_Images/Capture1.jpg\n",
            "(416, 416, 3)\n",
            "Found 1 boxes for img\n",
            "License Plate 0.95 (378, 258) (640, 372)\n",
            "Time spent: 1.696sec\n",
            "/content/gdrive/My Drive/ILPR/TrainYourOwnYOLO/Data/Source_Images/Test_Images/Capture.jpg\n",
            "(416, 416, 3)\n",
            "Found 1 boxes for img\n",
            "License Plate 0.98 (277, 223) (519, 335)\n",
            "Time spent: 1.718sec\n",
            "Processed 3 images in 8.2sec - 0.4FPS\n"
          ],
          "name": "stdout"
        }
      ]
    }
  ]
}